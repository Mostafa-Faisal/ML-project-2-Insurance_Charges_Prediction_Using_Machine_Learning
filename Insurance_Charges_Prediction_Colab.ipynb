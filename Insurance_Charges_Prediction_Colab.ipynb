{
 "cells": [
  {
   "cell_type": "markdown",
   "id": "63f14417",
   "metadata": {},
   "source": [
    "# Insurance Charges Prediction Using Machine Learning - Google Colab Version\n",
    "\n",
    "[![Open In Colab](https://colab.research.google.com/assets/colab-badge.svg)](https://colab.research.google.com/)\n",
    "\n",
    "## Project Overview\n",
    "**Goal**: Predict insurance charges based on client attributes such as age, BMI, smoking status, and other health factors.\n",
    "\n",
    "**Techniques Used**: Linear Regression, Random Forest, XGBoost\n",
    "\n",
    "**Dataset**: Insurance dataset with features like age, sex, BMI, children, smoker, region, and charges\n",
    "\n",
    "**Evaluation Metrics**: Mean Squared Error (MSE) and R² Score\n",
    "\n",
    "---\n",
    "\n",
    "## 🚀 Google Colab Benefits\n",
    "- ✅ Pre-installed ML packages\n",
    "- ✅ Free GPU/TPU access\n",
    "- ✅ No local setup required\n",
    "- ✅ Easy sharing and collaboration"
   ]
  },
  {
   "cell_type": "markdown",
   "id": "414a22df",
   "metadata": {},
   "source": [
    "## 1. Setup and Install Packages for Google Colab"
   ]
  },
  {
   "cell_type": "code",
   "execution_count": null,
   "id": "70703c92",
   "metadata": {},
   "outputs": [],
   "source": [
    "# Install XGBoost (only package not pre-installed in Colab)\n",
    "!pip install xgboost\n",
    "\n",
    "print(\"✅ XGBoost installation complete!\")"
   ]
  },
  {
   "cell_type": "code",
   "execution_count": null,
   "id": "ed8e7ca8",
   "metadata": {},
   "outputs": [],
   "source": [
    "# Import necessary libraries\n",
    "import pandas as pd\n",
    "import numpy as np\n",
    "import matplotlib.pyplot as plt\n",
    "import seaborn as sns\n",
    "from sklearn.model_selection import train_test_split\n",
    "from sklearn.linear_model import LinearRegression\n",
    "from sklearn.ensemble import RandomForestRegressor\n",
    "from sklearn.metrics import mean_squared_error, r2_score\n",
    "import xgboost as xgb\n",
    "import warnings\n",
    "import pickle\n",
    "import os\n",
    "from google.colab import files  # For file upload/download\n",
    "\n",
    "warnings.filterwarnings('ignore')\n",
    "\n",
    "# Set style for plots\n",
    "plt.style.use('default')\n",
    "sns.set_palette(\"husl\")\n",
    "\n",
    "print(\"✅ All libraries imported successfully!\")\n",
    "print(\"📊 Ready for machine learning!\")"
   ]
  },
  {
   "cell_type": "markdown",
   "id": "87b6d22d",
   "metadata": {},
   "source": [
    "## 2. Data Loading and Setup\n",
    "\n",
    "You can either upload your own insurance.csv file or use the sample data generated below."
   ]
  },
  {
   "cell_type": "code",
   "execution_count": null,
   "id": "4399a046",
   "metadata": {},
   "outputs": [],
   "source": [
    "# Create models directory for saving trained models\n",
    "if not os.path.exists('models'):\n",
    "    os.makedirs('models')\n",
    "    print(\"📁 Created 'models' directory\")\n",
    "\n",
    "print(\"📂 To upload your own dataset:\")\n",
    "print(\"   1. Click the folder icon on the left sidebar\")\n",
    "print(\"   2. Click 'Upload to session storage'\")\n",
    "print(\"   3. Select your insurance.csv file\")\n",
    "print(\"\\n📝 Or we'll use sample data for demonstration\")"
   ]
  },
  {
   "cell_type": "code",
   "execution_count": null,
   "id": "89e399ec",
   "metadata": {},
   "outputs": [],
   "source": [
    "# Load the dataset (with fallback to sample data)\n",
    "try:\n",
    "    df = pd.read_csv('insurance.csv')\n",
    "    print(\"✅ Dataset loaded successfully from uploaded file!\")\n",
    "    print(f\"Dataset shape: {df.shape}\")\n",
    "except FileNotFoundError:\n",
    "    print(\"📝 Creating sample dataset for demonstration...\")\n",
    "    # Creating a more realistic sample dataset\n",
    "    np.random.seed(42)\n",
    "    n_samples = 1000\n",
    "    \n",
    "    # Generate realistic data\n",
    "    age = np.random.randint(18, 65, n_samples)\n",
    "    sex = np.random.choice(['male', 'female'], n_samples)\n",
    "    bmi = np.random.normal(28, 5, n_samples)\n",
    "    bmi = np.clip(bmi, 15, 50)  # Clip to reasonable range\n",
    "    children = np.random.poisson(1, n_samples)  # More realistic distribution\n",
    "    children = np.clip(children, 0, 5)\n",
    "    smoker = np.random.choice(['yes', 'no'], n_samples, p=[0.2, 0.8])  # 20% smokers\n",
    "    region = np.random.choice(['northeast', 'northwest', 'southeast', 'southwest'], n_samples)\n",
    "    \n",
    "    # Generate charges with realistic relationships\n",
    "    base_charge = 3000 + age * 50 + (bmi - 25) * 100 + children * 500\n",
    "    smoker_multiplier = np.where(smoker == 'yes', 2.5, 1.0)\n",
    "    charges = base_charge * smoker_multiplier + np.random.normal(0, 2000, n_samples)\n",
    "    charges = np.clip(charges, 1000, 50000)  # Reasonable range\n",
    "    \n",
    "    sample_data = {\n",
    "        'age': age,\n",
    "        'sex': sex,\n",
    "        'bmi': bmi,\n",
    "        'children': children,\n",
    "        'smoker': smoker,\n",
    "        'region': region,\n",
    "        'charges': charges\n",
    "    }\n",
    "    df = pd.DataFrame(sample_data)\n",
    "    print(\"✅ Sample dataset created successfully!\")\n",
    "    print(f\"Dataset shape: {df.shape}\")\n",
    "\n",
    "print(\"\\n🎯 Dataset ready for analysis!\")"
   ]
  }
 ],
 "metadata": {
  "language_info": {
   "name": "python"
  }
 },
 "nbformat": 4,
 "nbformat_minor": 5
}
